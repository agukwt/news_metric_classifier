{
 "metadata": {
  "language_info": {
   "codemirror_mode": {
    "name": "ipython",
    "version": 3
   },
   "file_extension": ".py",
   "mimetype": "text/x-python",
   "name": "python",
   "nbconvert_exporter": "python",
   "pygments_lexer": "ipython3",
   "version": "3.8.0-final"
  },
  "orig_nbformat": 2,
  "kernelspec": {
   "name": "python3",
   "display_name": "Python 3"
  }
 },
 "nbformat": 4,
 "nbformat_minor": 2,
 "cells": [
  {
   "cell_type": "code",
   "execution_count": null,
   "metadata": {},
   "outputs": [],
   "source": [
    "%load_ext autoreload\n",
    "%autoreload 2"
   ]
  },
  {
   "cell_type": "code",
   "execution_count": null,
   "metadata": {},
   "outputs": [],
   "source": [
    "import sys\n",
    "\n",
    "from src.dataset import make_textdata_dict\n",
    "from src.dataset import make_contrastive_dataflame\n",
    "from src.dataset import ContrastiveDataSet\n",
    "from src.util import COTEGORY_INTEGRATE_DIR_PATH\n",
    "from src.text_transfomer import BertTransform"
   ]
  },
  {
   "cell_type": "code",
   "execution_count": null,
   "metadata": {},
   "outputs": [],
   "source": [
    "##################################################\n",
    "# 1 データセット作成　　　　　\n",
    "##################################################\n",
    "# カテゴリーとカテゴリーファイルの辞書を作成 　\n",
    "textdata_dict = make_textdata_dict(COTEGORY_INTEGRATE_DIR_PATH)\n",
    "# 作成する１つの対照情報の個数を指定して、対照情報を作成 (contrastive_num*2*カテゴリー数の行数を作成)\n",
    "contrastive_df = make_contrastive_dataflame(textdata_dict, contrastive_num=500)\n",
    "# 対照情報に対する変換処理を規定\n",
    "transform = BertTransform()\n",
    "# 対照情報を分割\n",
    "# TODO: split\n",
    "train_df = contrastive_df\n",
    "test_df = contrastive_df\n",
    "# torchのDataSet化\n",
    "train_datasetx = ContrastiveDataSet(train_df, transform, phase='train')\n",
    "test_datasetx = ContrastiveDataSet(test_df, transform, phase='test')\n",
    "    "
   ]
  },
  {
   "cell_type": "code",
   "execution_count": null,
   "metadata": {},
   "outputs": [],
   "source": [
    "from pprint import pprint\n",
    "index = 0\n",
    "pprint(len(train_datasetx.__getitem__(index)))\n",
    "pprint(train_datasetx.__getitem__(index)[0])\n",
    "pprint(train_datasetx.__getitem__(index)[1])\n",
    "pprint(train_datasetx.__getitem__(index)[2])\n"
   ]
  }
 ]
}