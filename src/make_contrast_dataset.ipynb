{
 "metadata": {
  "language_info": {
   "codemirror_mode": {
    "name": "ipython",
    "version": 3
   },
   "file_extension": ".py",
   "mimetype": "text/x-python",
   "name": "python",
   "nbconvert_exporter": "python",
   "pygments_lexer": "ipython3",
   "version": "3.8.0-final"
  },
  "orig_nbformat": 2,
  "kernelspec": {
   "name": "python3",
   "display_name": "Python 3"
  }
 },
 "nbformat": 4,
 "nbformat_minor": 2,
 "cells": [
  {
   "cell_type": "code",
   "execution_count": null,
   "metadata": {},
   "outputs": [],
   "source": [
    "%load_ext autoreload\n",
    "%autoreload 2"
   ]
  },
  {
   "cell_type": "code",
   "execution_count": null,
   "metadata": {},
   "outputs": [],
   "source": [
    "import sys\n",
    "\n",
    "from src.dataset import make_textdata_dict\n",
    "from src.dataset import make_contrastive_dataflame\n",
    "from src.dataset import ContrastiveDataSet\n",
    "from src.util import COTEGORY_INTEGRATE_DIR_PATH\n",
    "from src.text_transfomer import BertTransform\n",
    "\n",
    "from sklearn.model_selection import train_test_split"
   ]
  },
  {
   "cell_type": "code",
   "execution_count": null,
   "metadata": {},
   "outputs": [],
   "source": [
    "##################################################\n",
    "# 1 データセット作成　　　　　\n",
    "##################################################\n",
    "# カテゴリーとカテゴリーファイルの辞書を作成 　\n",
    "textdata_dict = make_textdata_dict(COTEGORY_INTEGRATE_DIR_PATH)\n",
    "# 作成する１つの対照情報の個数を指定して、対照情報を作成 (contrastive_num*2*カテゴリー数の行数を作成)\n",
    "contrastive_df = make_contrastive_dataflame(textdata_dict, contrastive_num=500)\n",
    "# 対照情報に対する変換処理を規定\n",
    "transform = BertTransform()\n",
    "# 対照情報を分割(train:val:test= 6:2:2)\n",
    "twenty_rasion_num = int(500*2*9/5)\n",
    "train_eval_df, test_df = train_test_split(contrastive_df, test_size=twenty_rasion_num, random_state=0)\n",
    "train_df, val_df = train_test_split(train_eval_df, test_size=twenty_rasion_num, random_state=0)\n",
    "# torchのDataSet化\n",
    "train_datasetx = ContrastiveDataSet(train_df, transform, phase='train')\n",
    "val_datasetx = ContrastiveDataSet(train_df, transform, phase='test')\n",
    "test_datasetx = ContrastiveDataSet(test_df, transform, phase='test')\n",
    "    "
   ]
  },
  {
   "cell_type": "code",
   "execution_count": null,
   "metadata": {},
   "outputs": [],
   "source": [
    "from pprint import pprint\n",
    "index = 1\n",
    "# pprint(len(train_datasetx.__getitem__(index)))\n",
    "# pprint(train_datasetx.__getitem__(index)[0])\n",
    "# pprint(train_datasetx.__getitem__(index)[1])\n",
    "pprint(train_datasetx.__getitem__(index)[2])\n"
   ]
  },
  {
   "cell_type": "code",
   "execution_count": null,
   "metadata": {},
   "outputs": [],
   "source": [
    "batch_size=32\n",
    "train_dataloder = torch.utils.data.DataLoader(train_datasetx, batch_size=batch_size, shuffle=True)\n",
    "val_dataloder = torch.utils.data.DataLoader(val_datasetx, batch_size=batch_size, shuffle=False)\n",
    "test_dataloder = torch.utils.data.DataLoader(test_datasetx, batch_size=batch_size, shuffle=False)\n",
    "\n",
    "next(iter(train_dataloder))"
   ]
  },
  {
   "cell_type": "code",
   "execution_count": null,
   "metadata": {},
   "outputs": [],
   "source": [
    "%load_ext autoreload\n",
    "%autoreload 2\n",
    "\n",
    "from transformers import BertModel, BertConfig, BertJapaneseTokenizer\n",
    "import torchtext\n",
    "\n",
    "from src.util import PRETRAINED_BERT_DIR"
   ]
  },
  {
   "cell_type": "code",
   "execution_count": null,
   "metadata": {},
   "outputs": [],
   "source": [
    "PRETRAINED_BERT_DIR"
   ]
  },
  {
   "cell_type": "code",
   "execution_count": null,
   "metadata": {},
   "outputs": [],
   "source": [
    "from pathlib import Path\n",
    "sampple_path = Path(r\"C:\\\\Users\\\\administrator_tm\\\\Documents\\\\prg_learn\\\\news_metric_cluster\\\\data\\\\ldcc-20140209.tar\\\\text\\\\dokujo-tsushin\\\\dokujo-tsushin-4778030.txt\")"
   ]
  },
  {
   "cell_type": "code",
   "execution_count": null,
   "metadata": {},
   "outputs": [],
   "source": [
    "sampple_path"
   ]
  },
  {
   "cell_type": "code",
   "execution_count": null,
   "metadata": {},
   "outputs": [],
   "source": [
    "from src.load import get_text\n",
    "from src.text_transfomer import clean_text"
   ]
  },
  {
   "cell_type": "code",
   "execution_count": null,
   "metadata": {},
   "outputs": [],
   "source": [
    "text = get_text(sampple_path)\n",
    "# 改行文字で分割してリストで返す\n",
    "lines = text.splitlines()\n",
    "# url, 日付、タイトル、本文を取得\n",
    "# url = lines[0]\n",
    "# datetime = lines[1]\n",
    "subject = lines[2]\n",
    "# 記事中の本文を1行にまとめる\n",
    "body = \"\".join(lines[3:])\n",
    "# タイトルと本文をまとめる\n",
    "text = subject + body"
   ]
  },
  {
   "cell_type": "code",
   "execution_count": null,
   "metadata": {},
   "outputs": [],
   "source": [
    "text"
   ]
  },
  {
   "cell_type": "code",
   "execution_count": null,
   "metadata": {},
   "outputs": [],
   "source": [
    "txt = clean_text(text)\n",
    "txt"
   ]
  },
  {
   "cell_type": "code",
   "execution_count": null,
   "metadata": {},
   "outputs": [],
   "source": [
    "from src.text_transfomer import tokenizer_512\n",
    "from transformers import BertModel, BertConfig, BertJapaneseTokenizer\n",
    "\n",
    "tokenizer = BertJapaneseTokenizer.from_pretrained(str(PRETRAINED_BERT_DIR))\n",
    "token = tokenizer_512(txt, tokenizer)"
   ]
  },
  {
   "cell_type": "code",
   "execution_count": null,
   "metadata": {},
   "outputs": [],
   "source": [
    "token.size()"
   ]
  },
  {
   "cell_type": "code",
   "execution_count": null,
   "metadata": {},
   "outputs": [],
   "source": [
    "batch_size=32\n",
    "\n",
    "train = torch.utils.data.DataLoader()\n"
   ]
  },
  {
   "cell_type": "code",
   "execution_count": null,
   "metadata": {},
   "outputs": [],
   "source": [
    "train_df"
   ]
  },
  {
   "cell_type": "code",
   "execution_count": null,
   "metadata": {},
   "outputs": [],
   "source": [
    "vp= train_df.iloc[]\n",
    "vp['contrastive_viewpoint']"
   ]
  },
  {
   "cell_type": "code",
   "execution_count": null,
   "metadata": {},
   "outputs": [],
   "source": [
    "a = 0 if vp['contrastive_viewpoint'] == 'positive' else 1"
   ]
  },
  {
   "cell_type": "code",
   "execution_count": null,
   "metadata": {},
   "outputs": [],
   "source": [
    "a{}"
   ]
  },
  {
   "cell_type": "code",
   "execution_count": null,
   "metadata": {},
   "outputs": [],
   "source": []
  }
 ]
}